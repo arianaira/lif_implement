{
 "cells": [
  {
   "cell_type": "code",
   "execution_count": 1,
   "id": "19f4047a",
   "metadata": {},
   "outputs": [
    {
     "ename": "ModuleNotFoundError",
     "evalue": "No module named 'synapticflow'",
     "output_type": "error",
     "traceback": [
      "\u001b[1;31m---------------------------------------------------------------------------\u001b[0m",
      "\u001b[1;31mModuleNotFoundError\u001b[0m                       Traceback (most recent call last)",
      "\u001b[1;32m~\\AppData\\Local\\Temp\\ipykernel_3504\\1850879026.py\u001b[0m in \u001b[0;36m<module>\u001b[1;34m\u001b[0m\n\u001b[1;32m----> 1\u001b[1;33m \u001b[1;32mfrom\u001b[0m \u001b[0msynapticflow\u001b[0m\u001b[1;33m.\u001b[0m\u001b[0mnetwork\u001b[0m \u001b[1;32mimport\u001b[0m \u001b[0mneural_populations\u001b[0m\u001b[1;33m\u001b[0m\u001b[1;33m\u001b[0m\u001b[0m\n\u001b[0m",
      "\u001b[1;31mModuleNotFoundError\u001b[0m: No module named 'synapticflow'"
     ]
    }
   ],
   "source": [
    "from synapticflow.network import neural_populations"
   ]
  },
  {
   "cell_type": "code",
   "execution_count": 2,
   "id": "aa83d7de",
   "metadata": {},
   "outputs": [
    {
     "name": "stdout",
     "output_type": "stream",
     "text": [
      "Collecting synapticflow\n",
      "  Using cached synapticflow-0.0.1-py2.py3-none-any.whl (27 kB)\n",
      "Requirement already satisfied: torch<=1.13.1 in c:\\users\\rina\\anaconda3\\lib\\site-packages (from synapticflow) (1.12.1)\n",
      "Requirement already satisfied: typing_extensions in c:\\users\\rina\\anaconda3\\lib\\site-packages (from torch<=1.13.1->synapticflow) (4.3.0)\n",
      "Installing collected packages: synapticflow\n",
      "Successfully installed synapticflow-0.0.1\n",
      "Note: you may need to restart the kernel to use updated packages.\n"
     ]
    }
   ],
   "source": [
    "pip install synapticflow"
   ]
  },
  {
   "cell_type": "code",
   "execution_count": null,
   "id": "8b7ab108",
   "metadata": {},
   "outputs": [],
   "source": [
    "model = neural_populations.AELIFPopulation(n=10)"
   ]
  }
 ],
 "metadata": {
  "kernelspec": {
   "display_name": "Python 3 (ipykernel)",
   "language": "python",
   "name": "python3"
  },
  "language_info": {
   "codemirror_mode": {
    "name": "ipython",
    "version": 3
   },
   "file_extension": ".py",
   "mimetype": "text/x-python",
   "name": "python",
   "nbconvert_exporter": "python",
   "pygments_lexer": "ipython3",
   "version": "3.9.13"
  }
 },
 "nbformat": 4,
 "nbformat_minor": 5
}
