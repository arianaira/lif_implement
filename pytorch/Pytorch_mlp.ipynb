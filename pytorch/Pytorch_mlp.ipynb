{
 "cells": [
  {
   "cell_type": "markdown",
   "metadata": {
    "id": "X8goANB6V9B_"
   },
   "source": [
    "# tensor"
   ]
  },
  {
   "cell_type": "code",
   "execution_count": null,
   "metadata": {
    "id": "oj-DRTXrV_7j"
   },
   "outputs": [],
   "source": [
    "import torch"
   ]
  },
  {
   "cell_type": "code",
   "execution_count": null,
   "metadata": {
    "colab": {
     "base_uri": "https://localhost:8080/"
    },
    "id": "76_SR1H5WBGL",
    "outputId": "5f8251af-d3a0-4954-aa82-7c7110a96672"
   },
   "outputs": [
    {
     "name": "stdout",
     "output_type": "stream",
     "text": [
      "tensor([   1,   -1,   15, 1000])\n"
     ]
    }
   ],
   "source": [
    "tensor1d = torch.tensor([1, -1, 15, 1000])\n",
    "print(tensor1d)"
   ]
  },
  {
   "cell_type": "code",
   "execution_count": null,
   "metadata": {
    "colab": {
     "base_uri": "https://localhost:8080/"
    },
    "id": "qhAsl3NbWBI7",
    "outputId": "e80ce29c-f81c-4f54-ab3b-8db83acd98e0"
   },
   "outputs": [
    {
     "name": "stdout",
     "output_type": "stream",
     "text": [
      "tensor([[-10.0000,  11.0000,   1.5000],\n",
      "        [  5.6000,  88.0000,  10.0000],\n",
      "        [  2.3000,  36.0000, -10.0000],\n",
      "        [  2.0000,  12.0000,   0.2000]])\n"
     ]
    }
   ],
   "source": [
    "tensor2d = torch.tensor([[-10, 11, 1.5],\n",
    "                             [ 5.6, 88, 10.0],\n",
    "                             [ 2.3, 36, -10.0],\n",
    "                             [ 2.0, 12, 0.2]])\n",
    "print(tensor2d)"
   ]
  },
  {
   "cell_type": "code",
   "execution_count": null,
   "metadata": {
    "colab": {
     "base_uri": "https://localhost:8080/"
    },
    "id": "eFB8stAaWBLj",
    "outputId": "c212a42b-259e-4106-ba36-2e764be7ffbf"
   },
   "outputs": [
    {
     "name": "stdout",
     "output_type": "stream",
     "text": [
      "tensor([[[-10.0000,  11.0000,   1.5000],\n",
      "         [  5.6000,  88.0000,  10.0000],\n",
      "         [  2.3000,  36.0000, -10.0000],\n",
      "         [  2.0000,  12.0000,   0.2000]],\n",
      "\n",
      "        [[ -1.0000,  11.0000,   1.5000],\n",
      "         [  0.6000,  88.0000,   1.0000],\n",
      "         [  0.3000,   3.6000, -10.0000],\n",
      "         [  2.1000,   1.2000,   4.2000]]])\n"
     ]
    }
   ],
   "source": [
    "tensor3d = torch.tensor([[[-10, 11, 1.50],\n",
    "                              [ 5.6, 88, 10.0],\n",
    "                              [ 2.3, 36, -10.0],\n",
    "                              [ 2.0, 12, 0.2]],\n",
    "                             [[-1.0, 11, 1.50],\n",
    "                              [ 0.6, 88, 1.00],\n",
    "                              [ 0.3, 3.6, -10.0],\n",
    "                              [ 2.1, 1.2, 4.20]]])\n",
    "\n",
    "print(tensor3d)"
   ]
  },
  {
   "cell_type": "code",
   "execution_count": null,
   "metadata": {
    "colab": {
     "base_uri": "https://localhost:8080/"
    },
    "id": "19jtnAy4WBN5",
    "outputId": "b19de7f5-5db4-48dc-c1ee-3f9260e5cc99"
   },
   "outputs": [
    {
     "data": {
      "text/plain": [
       "torch.Size([4, 3])"
      ]
     },
     "execution_count": 6,
     "metadata": {
      "tags": []
     },
     "output_type": "execute_result"
    }
   ],
   "source": [
    "tensor2d.shape"
   ]
  },
  {
   "cell_type": "code",
   "execution_count": null,
   "metadata": {
    "colab": {
     "base_uri": "https://localhost:8080/"
    },
    "id": "OwLqGU6kWBQq",
    "outputId": "5b984de6-ee3c-483e-8ef9-b3c487a29afd"
   },
   "outputs": [
    {
     "data": {
      "text/plain": [
       "torch.Size([4, 3])"
      ]
     },
     "execution_count": 7,
     "metadata": {
      "tags": []
     },
     "output_type": "execute_result"
    }
   ],
   "source": [
    "tensor2d.size()"
   ]
  },
  {
   "cell_type": "code",
   "execution_count": null,
   "metadata": {
    "colab": {
     "base_uri": "https://localhost:8080/"
    },
    "id": "8wPUdm0VWgXq",
    "outputId": "6774fc79-4256-4434-b66f-bc7fc4d58b8b"
   },
   "outputs": [
    {
     "data": {
      "text/plain": [
       "torch.int64"
      ]
     },
     "execution_count": 9,
     "metadata": {
      "tags": []
     },
     "output_type": "execute_result"
    }
   ],
   "source": [
    "tensor1d.dtype"
   ]
  },
  {
   "cell_type": "code",
   "execution_count": null,
   "metadata": {
    "colab": {
     "base_uri": "https://localhost:8080/"
    },
    "id": "S7RrxTi4WBTB",
    "outputId": "7a1c4cb7-22ef-4549-9949-9f7805bc1dae"
   },
   "outputs": [
    {
     "data": {
      "text/plain": [
       "torch.float32"
      ]
     },
     "execution_count": 8,
     "metadata": {
      "tags": []
     },
     "output_type": "execute_result"
    }
   ],
   "source": [
    "tensor3d.dtype"
   ]
  },
  {
   "cell_type": "code",
   "execution_count": null,
   "metadata": {
    "colab": {
     "base_uri": "https://localhost:8080/"
    },
    "id": "2jz279IjWdgs",
    "outputId": "df39a7f4-fe42-46c8-8786-f56f16336bb7"
   },
   "outputs": [
    {
     "name": "stdout",
     "output_type": "stream",
     "text": [
      "tensor([0.])\n"
     ]
    }
   ],
   "source": [
    "zeros1d = torch.zeros(1)\n",
    "print(zeros1d)"
   ]
  },
  {
   "cell_type": "code",
   "execution_count": null,
   "metadata": {
    "colab": {
     "base_uri": "https://localhost:8080/"
    },
    "id": "saKT6dU-Wdja",
    "outputId": "f20e7454-3c00-487a-f853-ac9bf5d99cee"
   },
   "outputs": [
    {
     "name": "stdout",
     "output_type": "stream",
     "text": [
      "tensor([0., 0., 0., 0., 0.])\n"
     ]
    }
   ],
   "source": [
    "zeros1d = torch.zeros(5)\n",
    "print(zeros1d)"
   ]
  },
  {
   "cell_type": "code",
   "execution_count": null,
   "metadata": {
    "colab": {
     "base_uri": "https://localhost:8080/"
    },
    "id": "NZvtfBRHWdmD",
    "outputId": "c65cc6ce-f6e4-43cd-cb61-225aa2302588"
   },
   "outputs": [
    {
     "name": "stdout",
     "output_type": "stream",
     "text": [
      "tensor([[0., 0., 0.],\n",
      "        [0., 0., 0.]])\n"
     ]
    }
   ],
   "source": [
    "zeros2d = torch.zeros(2, 3)\n",
    "print(zeros2d)"
   ]
  },
  {
   "cell_type": "code",
   "execution_count": null,
   "metadata": {
    "colab": {
     "base_uri": "https://localhost:8080/"
    },
    "id": "uj3V2HsuW1Kk",
    "outputId": "ccfd45ef-13af-4a75-ed90-18e115c57120"
   },
   "outputs": [
    {
     "name": "stdout",
     "output_type": "stream",
     "text": [
      "torch.Size([2, 3, 8, 6, 5])\n"
     ]
    }
   ],
   "source": [
    "zeros5d = torch.zeros(2, 3, 8, 6, 5)\n",
    "print(zeros5d.shape)"
   ]
  },
  {
   "cell_type": "code",
   "execution_count": null,
   "metadata": {
    "colab": {
     "base_uri": "https://localhost:8080/"
    },
    "id": "EMECKursW1NH",
    "outputId": "f03c810e-d01b-47ee-b17a-ac8aff14b9bf"
   },
   "outputs": [
    {
     "name": "stdout",
     "output_type": "stream",
     "text": [
      "1440\n"
     ]
    }
   ],
   "source": [
    "print(zeros5d.numel())"
   ]
  },
  {
   "cell_type": "code",
   "execution_count": null,
   "metadata": {
    "colab": {
     "base_uri": "https://localhost:8080/"
    },
    "id": "9S58vMI3W1Pd",
    "outputId": "86827793-8b36-40c2-ea39-58570030d021"
   },
   "outputs": [
    {
     "name": "stdout",
     "output_type": "stream",
     "text": [
      "tensor([[0., 0.],\n",
      "        [0., 0.]], dtype=torch.float64)\n"
     ]
    }
   ],
   "source": [
    "zeros2d = torch.zeros(2, 2, dtype=torch.float64)\n",
    "print(zeros2d)"
   ]
  },
  {
   "cell_type": "code",
   "execution_count": null,
   "metadata": {
    "colab": {
     "base_uri": "https://localhost:8080/"
    },
    "id": "QuXw6qREW1SF",
    "outputId": "cfe01d36-be07-40c1-ed97-f3e3a8f3663a"
   },
   "outputs": [
    {
     "name": "stdout",
     "output_type": "stream",
     "text": [
      "tensor([1., 1., 1., 1.])\n"
     ]
    }
   ],
   "source": [
    "ones1d = torch.ones(4)\n",
    "print(ones1d)"
   ]
  },
  {
   "cell_type": "code",
   "execution_count": null,
   "metadata": {
    "colab": {
     "base_uri": "https://localhost:8080/"
    },
    "id": "rkykbbYTW1Uc",
    "outputId": "1ee6c4d1-fc6e-4b45-922e-6fc2b9868a26"
   },
   "outputs": [
    {
     "name": "stdout",
     "output_type": "stream",
     "text": [
      "tensor([[1., 1., 1., 1., 1., 1., 1., 1.],\n",
      "        [1., 1., 1., 1., 1., 1., 1., 1.],\n",
      "        [1., 1., 1., 1., 1., 1., 1., 1.],\n",
      "        [1., 1., 1., 1., 1., 1., 1., 1.]])\n"
     ]
    }
   ],
   "source": [
    "ones2d = torch.ones(4, 8)\n",
    "print(ones2d)"
   ]
  },
  {
   "cell_type": "code",
   "execution_count": null,
   "metadata": {
    "colab": {
     "base_uri": "https://localhost:8080/"
    },
    "id": "-d2KvGXSXTmD",
    "outputId": "76d9e740-b5a7-4168-a810-ded9c8647b04"
   },
   "outputs": [
    {
     "name": "stdout",
     "output_type": "stream",
     "text": [
      "tensor([[[1],\n",
      "         [1]]], dtype=torch.int16)\n"
     ]
    }
   ],
   "source": [
    "ones3d = torch.ones(1, 2, 1, dtype=torch.int16)\n",
    "print(ones3d)"
   ]
  },
  {
   "cell_type": "code",
   "execution_count": null,
   "metadata": {
    "colab": {
     "base_uri": "https://localhost:8080/"
    },
    "id": "09ydJKzEXToj",
    "outputId": "997483b3-0ae6-468a-dd27-53741d586f81"
   },
   "outputs": [
    {
     "name": "stdout",
     "output_type": "stream",
     "text": [
      "tensor([[5, 5, 5, 5],\n",
      "        [5, 5, 5, 5],\n",
      "        [5, 5, 5, 5]])\n"
     ]
    }
   ],
   "source": [
    "full2d = torch.full((3,4), 5)\n",
    "print(full2d)"
   ]
  },
  {
   "cell_type": "code",
   "execution_count": null,
   "metadata": {
    "colab": {
     "base_uri": "https://localhost:8080/"
    },
    "id": "3DYz_BDTXTrf",
    "outputId": "fe5b6cd8-6a09-4ce9-bd3e-646e6df916ee"
   },
   "outputs": [
    {
     "name": "stdout",
     "output_type": "stream",
     "text": [
      "tensor([[1., 0., 0., 0., 0.],\n",
      "        [0., 1., 0., 0., 0.],\n",
      "        [0., 0., 1., 0., 0.],\n",
      "        [0., 0., 0., 1., 0.],\n",
      "        [0., 0., 0., 0., 1.]])\n"
     ]
    }
   ],
   "source": [
    "eye_tensor = torch.eye(5)\n",
    "print(eye_tensor)"
   ]
  },
  {
   "cell_type": "code",
   "execution_count": null,
   "metadata": {
    "colab": {
     "base_uri": "https://localhost:8080/"
    },
    "id": "xzJi0mK3XTuI",
    "outputId": "35a5ce75-1694-440b-c60f-65e1d2a3bf70"
   },
   "outputs": [
    {
     "name": "stdout",
     "output_type": "stream",
     "text": [
      "tensor([0, 1, 2, 3, 4, 5, 6, 7, 8, 9])\n"
     ]
    }
   ],
   "source": [
    "arange_tensor = torch.arange(0, 10, 1)\n",
    "print(arange_tensor)"
   ]
  },
  {
   "cell_type": "code",
   "execution_count": null,
   "metadata": {
    "colab": {
     "base_uri": "https://localhost:8080/"
    },
    "id": "dAUl1Q4UXTw7",
    "outputId": "485a8743-9e6f-4010-d995-4ef66eed6a4b"
   },
   "outputs": [
    {
     "name": "stdout",
     "output_type": "stream",
     "text": [
      "tensor([1.5000, 1.6000, 1.7000, 1.8000, 1.9000, 2.0000, 2.1000, 2.2000, 2.3000,\n",
      "        2.4000])\n"
     ]
    }
   ],
   "source": [
    "arange_tensor = torch.arange(1.5, 2.5, 0.1)\n",
    "print(arange_tensor)"
   ]
  },
  {
   "cell_type": "code",
   "execution_count": null,
   "metadata": {
    "colab": {
     "base_uri": "https://localhost:8080/"
    },
    "id": "omMNZpIaXTzt",
    "outputId": "a6756953-1cd3-4b29-ae0f-3456b688ec93"
   },
   "outputs": [
    {
     "name": "stdout",
     "output_type": "stream",
     "text": [
      "tensor([0.0000, 0.0101, 0.0202, 0.0303, 0.0404, 0.0505, 0.0606, 0.0707, 0.0808,\n",
      "        0.0909, 0.1010, 0.1111, 0.1212, 0.1313, 0.1414, 0.1515, 0.1616, 0.1717,\n",
      "        0.1818, 0.1919, 0.2020, 0.2121, 0.2222, 0.2323, 0.2424, 0.2525, 0.2626,\n",
      "        0.2727, 0.2828, 0.2929, 0.3030, 0.3131, 0.3232, 0.3333, 0.3434, 0.3535,\n",
      "        0.3636, 0.3737, 0.3838, 0.3939, 0.4040, 0.4141, 0.4242, 0.4343, 0.4444,\n",
      "        0.4545, 0.4646, 0.4747, 0.4848, 0.4949, 0.5051, 0.5152, 0.5253, 0.5354,\n",
      "        0.5455, 0.5556, 0.5657, 0.5758, 0.5859, 0.5960, 0.6061, 0.6162, 0.6263,\n",
      "        0.6364, 0.6465, 0.6566, 0.6667, 0.6768, 0.6869, 0.6970, 0.7071, 0.7172,\n",
      "        0.7273, 0.7374, 0.7475, 0.7576, 0.7677, 0.7778, 0.7879, 0.7980, 0.8081,\n",
      "        0.8182, 0.8283, 0.8384, 0.8485, 0.8586, 0.8687, 0.8788, 0.8889, 0.8990,\n",
      "        0.9091, 0.9192, 0.9293, 0.9394, 0.9495, 0.9596, 0.9697, 0.9798, 0.9899,\n",
      "        1.0000])\n"
     ]
    }
   ],
   "source": [
    "linspace_tensor = torch.linspace(0, 1, 100)\n",
    "print(linspace_tensor)"
   ]
  },
  {
   "cell_type": "code",
   "execution_count": null,
   "metadata": {
    "colab": {
     "base_uri": "https://localhost:8080/"
    },
    "id": "d_MRgXyKXy2i",
    "outputId": "d3406ce3-b8c7-4413-fb25-5aa02e32fd74"
   },
   "outputs": [
    {
     "name": "stdout",
     "output_type": "stream",
     "text": [
      "tensor([[0.3479, 0.7450],\n",
      "        [0.2535, 0.7639]])\n",
      "tensor([[0.8655, 0.0620],\n",
      "        [0.5737, 0.6172]])\n",
      "tensor([[1.2135, 0.8070],\n",
      "        [0.8271, 1.3811]])\n"
     ]
    }
   ],
   "source": [
    "a = torch.rand(2,2)\n",
    "b = torch.rand(2,2)\n",
    "print(a)\n",
    "print(b)\n",
    "c = a + b\n",
    "print(c)"
   ]
  },
  {
   "cell_type": "code",
   "execution_count": null,
   "metadata": {
    "colab": {
     "base_uri": "https://localhost:8080/"
    },
    "id": "QigV7LZcXy5F",
    "outputId": "b4c841bd-8266-4d1a-ba28-cd94e155f3f2"
   },
   "outputs": [
    {
     "name": "stdout",
     "output_type": "stream",
     "text": [
      "tensor([[[0.5039, 0.4101, 0.9044],\n",
      "         [0.6418, 0.4268, 0.6811]]])\n",
      "tensor([[[3.0039, 2.9101, 3.4044],\n",
      "         [3.1418, 2.9268, 3.1811]]])\n"
     ]
    }
   ],
   "source": [
    "a = torch.rand(1, 2, 3)\n",
    "print(a)\n",
    "b = 2.5\n",
    "c = a + b\n",
    "print(c)"
   ]
  },
  {
   "cell_type": "markdown",
   "metadata": {
    "id": "mFO2IHiyYoBi"
   },
   "source": [
    "out=input+alpha×other"
   ]
  },
  {
   "cell_type": "code",
   "execution_count": null,
   "metadata": {
    "colab": {
     "base_uri": "https://localhost:8080/"
    },
    "id": "AhptP9e7YqGp",
    "outputId": "7b4def37-c512-4fac-d0e9-a820a83cfcc0"
   },
   "outputs": [
    {
     "name": "stdout",
     "output_type": "stream",
     "text": [
      "tensor([[1.1942, 0.9988, 1.0106],\n",
      "        [1.0566, 0.8612, 0.8730],\n",
      "        [0.4295, 0.2341, 0.2459]])\n"
     ]
    }
   ],
   "source": [
    "alpha = 0.3\n",
    "c = a + alpha * b\n",
    "print(c)"
   ]
  },
  {
   "cell_type": "code",
   "execution_count": null,
   "metadata": {
    "colab": {
     "base_uri": "https://localhost:8080/"
    },
    "id": "lzsZAYSHYqKg",
    "outputId": "420255a9-e95b-436e-aec5-73964565e965"
   },
   "outputs": [
    {
     "name": "stdout",
     "output_type": "stream",
     "text": [
      "tensor([[1.1942, 0.9988, 1.0106],\n",
      "        [1.0566, 0.8612, 0.8730],\n",
      "        [0.4295, 0.2341, 0.2459]])\n"
     ]
    }
   ],
   "source": [
    " d = torch.add(a, b, alpha=alpha)\n",
    " print(d)"
   ]
  },
  {
   "cell_type": "code",
   "execution_count": null,
   "metadata": {
    "colab": {
     "base_uri": "https://localhost:8080/"
    },
    "id": "s1oNz0w2YqNN",
    "outputId": "7ed5f25f-2e5c-47ed-b8b3-2ea300c397e1"
   },
   "outputs": [
    {
     "name": "stdout",
     "output_type": "stream",
     "text": [
      "tensor([[1, 5],\n",
      "        [5, 5],\n",
      "        [3, 6],\n",
      "        [0, 9]])\n",
      "tensor([0, 3])\n",
      "tensor([[ 0, 15],\n",
      "        [ 0, 15],\n",
      "        [ 0, 18],\n",
      "        [ 0, 27]])\n"
     ]
    }
   ],
   "source": [
    "a = torch.randint(10, (4,2))\n",
    "print(a)\n",
    "b = torch.randint(10, (2,))\n",
    "print(b)\n",
    "c = a * b\n",
    "print(c)"
   ]
  },
  {
   "cell_type": "code",
   "execution_count": null,
   "metadata": {
    "colab": {
     "base_uri": "https://localhost:8080/"
    },
    "id": "Gp6Ns2_xXy-p",
    "outputId": "4c454d1f-790c-4f85-c94b-907b9905cd8f"
   },
   "outputs": [
    {
     "name": "stdout",
     "output_type": "stream",
     "text": [
      "tensor([[ 1.2726, -0.0584],\n",
      "        [ 0.6149,  0.4283],\n",
      "        [ 0.7673, -2.3086],\n",
      "        [-0.9243,  0.0866]])\n",
      "tensor([[ 0.8675,  0.1046,  0.6757, -0.1544],\n",
      "        [-0.6345,  0.9869, -0.1137, -0.7466]])\n",
      "tensor([[ 1.1411,  0.0755,  0.8666, -0.1529],\n",
      "        [ 0.2617,  0.4870,  0.3669, -0.4147],\n",
      "        [ 2.1305, -2.1981,  0.7809,  1.6051],\n",
      "        [-0.8569, -0.0112, -0.6344,  0.0780]])\n"
     ]
    }
   ],
   "source": [
    "a = torch.randn(4,2)\n",
    "b = torch.randn(2,4)\n",
    "print(a)\n",
    "print(b)\n",
    "c = torch.matmul(a, b)\n",
    "print(c)"
   ]
  },
  {
   "cell_type": "code",
   "execution_count": null,
   "metadata": {
    "colab": {
     "base_uri": "https://localhost:8080/"
    },
    "id": "19cHyKntXzBs",
    "outputId": "e44928d5-54a8-4167-e8d3-e80fa0a07abf"
   },
   "outputs": [
    {
     "name": "stdout",
     "output_type": "stream",
     "text": [
      "tensor([[ 1.1411,  0.0755,  0.8666, -0.1529],\n",
      "        [ 0.2617,  0.4870,  0.3669, -0.4147],\n",
      "        [ 2.1305, -2.1981,  0.7809,  1.6051],\n",
      "        [-0.8569, -0.0112, -0.6344,  0.0780]])\n"
     ]
    }
   ],
   "source": [
    "c = a @ b\n",
    "print(c)"
   ]
  },
  {
   "cell_type": "code",
   "execution_count": null,
   "metadata": {
    "colab": {
     "base_uri": "https://localhost:8080/"
    },
    "id": "L84FCj1mXzEH",
    "outputId": "d8d0aa48-ddb9-4f47-d125-976dd57f6ff0"
   },
   "outputs": [
    {
     "name": "stdout",
     "output_type": "stream",
     "text": [
      "tensor([-0.7078, -0.2356,  1.9284,  0.2659,  1.1387])\n"
     ]
    },
    {
     "data": {
      "text/plain": [
       "tensor([-1.4157, -0.4712,  3.8569,  0.5319,  2.2774])"
      ]
     },
     "execution_count": 40,
     "metadata": {
      "tags": []
     },
     "output_type": "execute_result"
    }
   ],
   "source": [
    "a = torch.randn(5)\n",
    "print(a)\n",
    "torch.div(a, 0.5)"
   ]
  },
  {
   "cell_type": "code",
   "execution_count": null,
   "metadata": {
    "colab": {
     "base_uri": "https://localhost:8080/"
    },
    "id": "CXsgEjmbXzLh",
    "outputId": "79ad742e-e428-4d71-b6ff-6bf32cc5b9e1"
   },
   "outputs": [
    {
     "name": "stdout",
     "output_type": "stream",
     "text": [
      "tensor([[ 0.4579,  0.1924,  0.5250,  0.4437],\n",
      "        [-1.7104,  0.9531,  1.5021, -0.8545],\n",
      "        [-1.7989, -0.9743, -0.7956,  0.3958],\n",
      "        [ 0.0201, -0.4913, -0.5769, -1.6517]])\n",
      "tensor([[ 0.3107,  2.5263, -0.4327,  0.6289],\n",
      "        [ 1.0116,  0.6705,  1.0335,  1.4777],\n",
      "        [ 0.0532,  0.9357, -0.5282, -0.3685],\n",
      "        [ 1.0813,  0.5421,  0.3331, -0.3779]])\n",
      "tensor([[ 1.4734e+00,  7.6143e-02, -1.2135e+00,  7.0556e-01],\n",
      "        [-1.6907e+00,  1.4215e+00,  1.4535e+00, -5.7826e-01],\n",
      "        [-3.3818e+01, -1.0413e+00,  1.5064e+00, -1.0739e+00],\n",
      "        [ 1.8634e-02, -9.0629e-01, -1.7320e+00,  4.3713e+00]])\n"
     ]
    }
   ],
   "source": [
    "a = torch.randn(4, 4)\n",
    "print(a)\n",
    "b = torch.randn(4, 4)\n",
    "print(b)\n",
    "c = torch.div(a, b)\n",
    "print(c)"
   ]
  },
  {
   "cell_type": "code",
   "execution_count": null,
   "metadata": {
    "colab": {
     "base_uri": "https://localhost:8080/"
    },
    "id": "OMGGttb8XzOY",
    "outputId": "01b8157e-2f4d-4605-d1ed-2b26ba621743"
   },
   "outputs": [
    {
     "name": "stdout",
     "output_type": "stream",
     "text": [
      "tensor([[ 1.4734e+00,  7.6143e-02, -1.2135e+00,  7.0556e-01],\n",
      "        [-1.6907e+00,  1.4215e+00,  1.4535e+00, -5.7826e-01],\n",
      "        [-3.3818e+01, -1.0413e+00,  1.5064e+00, -1.0739e+00],\n",
      "        [ 1.8634e-02, -9.0629e-01, -1.7320e+00,  4.3713e+00]])\n"
     ]
    }
   ],
   "source": [
    "c = a/b\n",
    "print(c)"
   ]
  },
  {
   "cell_type": "code",
   "execution_count": null,
   "metadata": {
    "colab": {
     "base_uri": "https://localhost:8080/"
    },
    "id": "EeGlklP1XzQx",
    "outputId": "7ed89478-9f8c-4de9-da55-03e6d810d073"
   },
   "outputs": [
    {
     "name": "stdout",
     "output_type": "stream",
     "text": [
      "tensor([[ 0.4865,  0.1985,  0.6556, -1.2407],\n",
      "        [ 0.3324, -0.8786, -1.2484, -0.4893],\n",
      "        [ 0.2453, -0.5020,  0.8822,  0.0921],\n",
      "        [ 0.3424,  0.5147,  1.3698, -0.4248]])\n",
      "tensor([[-3.2008,  3.2077, -1.3924,  5.3522],\n",
      "        [-0.9362,  0.5228, -1.4030,  1.8282],\n",
      "        [ 0.5576, -0.6963,  0.7610, -0.6616],\n",
      "        [-1.9162,  0.9735, -0.3684,  2.0416]])\n"
     ]
    }
   ],
   "source": [
    "#a/b = a @ inv(b)\n",
    "a = torch.randn(4, 4)\n",
    "print(a)\n",
    "b = torch.inverse(a)\n",
    "print(b)"
   ]
  },
  {
   "cell_type": "markdown",
   "metadata": {
    "id": "iViiQ3rXNiwc"
   },
   "source": [
    "# Linear Regression\n",
    "\n",
    "\\begin{equation}\n",
    "y = a + bx\n",
    "\\end{equation}\n",
    "$a$ is bias \n",
    "\n",
    "$b$ is weights"
   ]
  },
  {
   "cell_type": "code",
   "execution_count": null,
   "metadata": {
    "id": "5GnwLquoNO3I"
   },
   "outputs": [],
   "source": [
    "import numpy as np\n",
    "import torch"
   ]
  },
  {
   "cell_type": "markdown",
   "metadata": {
    "id": "LOsYp4JyPsaa"
   },
   "source": [
    "## make fake data"
   ]
  },
  {
   "cell_type": "markdown",
   "metadata": {
    "id": "W4BF2mIk4_AP"
   },
   "source": [
    "$ 2 * x + 1 + \\mbox{noise} = y$"
   ]
  },
  {
   "cell_type": "code",
   "execution_count": null,
   "metadata": {
    "id": "CPSHPXzbOXUS"
   },
   "outputs": [],
   "source": [
    "np.random.seed(42)\n",
    "x = np.random.rand(100, 1) #make random vector with size 100\n",
    "y = 1 + (2 * x) + .1 * np.random.randn(100, 1) #make y depends on x with noise by equation y = 1 + 2 * x + (noise)"
   ]
  },
  {
   "cell_type": "code",
   "execution_count": null,
   "metadata": {
    "colab": {
     "base_uri": "https://localhost:8080/"
    },
    "id": "6wZ9I2oAOhU8",
    "outputId": "0127b653-cd9e-4152-94ff-2866e97cc023"
   },
   "outputs": [
    {
     "data": {
      "text/plain": [
       "(100, 1)"
      ]
     },
     "execution_count": 3,
     "metadata": {
      "tags": []
     },
     "output_type": "execute_result"
    }
   ],
   "source": [
    "x.shape"
   ]
  },
  {
   "cell_type": "code",
   "execution_count": null,
   "metadata": {
    "colab": {
     "base_uri": "https://localhost:8080/"
    },
    "id": "naRdWLEAPAAN",
    "outputId": "bd855ec0-cccb-49a2-f804-e1bf7a464f64"
   },
   "outputs": [
    {
     "data": {
      "text/plain": [
       "(100, 1)"
      ]
     },
     "execution_count": 4,
     "metadata": {
      "tags": []
     },
     "output_type": "execute_result"
    }
   ],
   "source": [
    "y.shape"
   ]
  },
  {
   "cell_type": "code",
   "execution_count": null,
   "metadata": {
    "id": "L5cuEPn-PBTy"
   },
   "outputs": [],
   "source": [
    "# Shuffles the indices\n",
    "idx = np.arange(100)\n",
    "np.random.shuffle(idx)"
   ]
  },
  {
   "cell_type": "code",
   "execution_count": null,
   "metadata": {
    "id": "su979TiYPEcI"
   },
   "outputs": [],
   "source": [
    "# Uses first 80 random indices for train\n",
    "train_idx = idx[:80]\n",
    "# Uses the remaining indices for validation\n",
    "val_idx = idx[80:]\n",
    "\n",
    "# Generates train and validation sets\n",
    "x_train, y_train = x[train_idx], y[train_idx]\n",
    "x_val, y_val = x[val_idx], y[val_idx]"
   ]
  },
  {
   "cell_type": "code",
   "execution_count": null,
   "metadata": {
    "colab": {
     "base_uri": "https://localhost:8080/"
    },
    "id": "85Mp8xUpPJ2Z",
    "outputId": "e0a2447d-5ee8-4716-d5c9-19bfd518e040"
   },
   "outputs": [
    {
     "data": {
      "text/plain": [
       "(80, 1)"
      ]
     },
     "execution_count": 7,
     "metadata": {
      "tags": []
     },
     "output_type": "execute_result"
    }
   ],
   "source": [
    "x_train.shape"
   ]
  },
  {
   "cell_type": "code",
   "execution_count": null,
   "metadata": {
    "colab": {
     "base_uri": "https://localhost:8080/"
    },
    "id": "gaxvKNW0PLTp",
    "outputId": "186cf7e7-7f24-4a15-f73e-f5016cc37048"
   },
   "outputs": [
    {
     "data": {
      "text/plain": [
       "(80, 1)"
      ]
     },
     "execution_count": 8,
     "metadata": {
      "tags": []
     },
     "output_type": "execute_result"
    }
   ],
   "source": [
    "y_train.shape"
   ]
  },
  {
   "cell_type": "code",
   "execution_count": null,
   "metadata": {
    "colab": {
     "base_uri": "https://localhost:8080/",
     "height": 314
    },
    "id": "R2TyD4-_PMd7",
    "outputId": "80de82be-bbd3-4d3d-8f44-9e7abee6736e"
   },
   "outputs": [
    {
     "data": {
      "text/plain": [
       "Text(0, 0.5, 'y_train')"
      ]
     },
     "execution_count": 9,
     "metadata": {
      "tags": []
     },
     "output_type": "execute_result"
    },
    {
     "data": {
      "image/png": "[encoded data removed]",
      "text/plain": [
       "<Figure size 432x288 with 1 Axes>"
      ]
     },
     "metadata": {
      "needs_background": "light",
      "tags": []
     },
     "output_type": "display_data"
    }
   ],
   "source": [
    "import matplotlib.pyplot as plt \n",
    "\n",
    "plt.plot(x_train, y_train, 'o')\n",
    "plt.title('Generated Data (Train)')\n",
    "plt.grid()\n",
    "plt.xlabel('x_train')\n",
    "plt.ylabel('y_train')"
   ]
  },
  {
   "cell_type": "markdown",
   "metadata": {
    "id": "cSAKuTVGPkmz"
   },
   "source": [
    "## gradient descent\n",
    "\n",
    "we calculate loss and then by gradient we update our parameters \n",
    "\n",
    "we want find $a$ and $b$"
   ]
  },
  {
   "cell_type": "markdown",
   "metadata": {
    "id": "GJbFxfB9QYxJ"
   },
   "source": [
    "### init parameters"
   ]
  },
  {
   "cell_type": "code",
   "execution_count": null,
   "metadata": {
    "colab": {
     "base_uri": "https://localhost:8080/"
    },
    "id": "MScw-FHEPYt3",
    "outputId": "1f63dabc-867d-43bb-a9f8-4660c4ca5f24"
   },
   "outputs": [
    {
     "name": "stdout",
     "output_type": "stream",
     "text": [
      "[0.49671415] [-0.1382643]\n",
      "(80, 1)\n"
     ]
    }
   ],
   "source": [
    "np.random.seed(42)\n",
    "a = np.random.randn(1)\n",
    "b = np.random.randn(1)\n",
    "print(a, b)\n",
    "\n",
    "# Computes our model's predicted output\n",
    "y = a + b * x_train\n",
    "print(y.shape)"
   ]
  },
  {
   "cell_type": "markdown",
   "metadata": {
    "id": "z8Gwg4GoQiQZ"
   },
   "source": [
    "### loss function\n",
    "\n",
    "\\begin{equation}\n",
    "\\mbox{MSE} = \\frac{1}{N} \\sum_{i = 1}^{N} (y_{i} - \\hat{y}_{i})^{2}\n",
    "\\end{equation}\n",
    "\n",
    "\\begin{equation}\n",
    "\\mbox{MSE} = \\frac{1}{N} \\sum_{i = 1}^{N} (y_{i} - (a + b*x_{i}))^{2}\n",
    "\\end{equation}"
   ]
  },
  {
   "cell_type": "code",
   "execution_count": null,
   "metadata": {
    "colab": {
     "base_uri": "https://localhost:8080/"
    },
    "id": "88uSQ-t4QOUm",
    "outputId": "2f3dbaf4-a78c-499b-bb76-0104f56bfa93"
   },
   "outputs": [
    {
     "name": "stdout",
     "output_type": "stream",
     "text": [
      "2.7421577700550976\n"
     ]
    }
   ],
   "source": [
    "error = (y_train - y)\n",
    "loss = (error ** 2).mean()\n",
    "print(loss)"
   ]
  },
  {
   "cell_type": "markdown",
   "metadata": {
    "id": "TQH7bF3sRZwb"
   },
   "source": [
    "### gradient\n",
    "\n",
    "\\begin{equation}\n",
    "\\frac{\\partial \\mbox{MSE}}{\\partial a} = \\frac{\\partial \\mbox{MSE}}{\\partial \\hat{y}_{i}} * \\frac{\\partial \\hat{y}_{i}}{\\partial a}  = \\cdots = -2 * \\frac{1}{N} \\sum_{i = 1}^{N}(y_{i} - \\hat{y}_{i})\n",
    "\\end{equation}\n",
    "\n",
    "\\begin{equation}\n",
    "\\frac{\\partial \\mbox{MSE}}{\\partial b} = \\frac{\\partial \\mbox{MSE}}{\\partial \\hat{y}_{i}} * \\frac{\\partial \\hat{y}_{i}}{\\partial b} = \\cdots = -2 * \\frac{1}{N} \\sum_{i = 1}^{N} x_{i} (y_{i} - \\hat{y}_{i})\n",
    "\\end{equation}"
   ]
  },
  {
   "cell_type": "code",
   "execution_count": null,
   "metadata": {
    "colab": {
     "base_uri": "https://localhost:8080/"
    },
    "id": "yw3RBmKgRVFS",
    "outputId": "019b7960-3c61-4400-dd96-11b30d89764d"
   },
   "outputs": [
    {
     "name": "stdout",
     "output_type": "stream",
     "text": [
      "a_grad:  -3.044811379650508\n",
      "b_grad:  -1.8337537171510832\n"
     ]
    }
   ],
   "source": [
    "# Computes gradients for both \"a\" and \"b\" parameters\n",
    "a_grad = -2 * error.mean()\n",
    "b_grad = -2 * (x_train * error).mean()\n",
    "print('a_grad: ', a_grad)\n",
    "print('b_grad: ', b_grad)"
   ]
  },
  {
   "cell_type": "markdown",
   "metadata": {
    "id": "4ez_jwdFSqSL"
   },
   "source": [
    "### update parameters\n",
    "\n",
    "\\begin{equation}\n",
    "a = a - \\mu \\frac{\\partial \\mbox{MSE}}{\\partial a}\n",
    "\\end{equation}\n",
    "\\begin{equation}\n",
    "b = b - \\mu \\frac{\\partial \\mbox{MSE}}{\\partial b}\n",
    "\\end{equation}"
   ]
  },
  {
   "cell_type": "code",
   "execution_count": null,
   "metadata": {
    "colab": {
     "base_uri": "https://localhost:8080/"
    },
    "id": "HIAk3rjQSoQx",
    "outputId": "47618071-3d50-4777-c549-733ce31e78c8"
   },
   "outputs": [
    {
     "name": "stdout",
     "output_type": "stream",
     "text": [
      "a:  [0.80119529]\n",
      "b:  [0.04511107]\n"
     ]
    }
   ],
   "source": [
    "lr = 1e-1\n",
    "# Updates parameters using gradients and the learning rate\n",
    "a = a - lr * a_grad\n",
    "b = b - lr * b_grad\n",
    "    \n",
    "print('a: ', a)\n",
    "print('b: ', b)"
   ]
  },
  {
   "cell_type": "markdown",
   "metadata": {
    "id": "NjfRlg3uTGxJ"
   },
   "source": [
    "### Do it for 100 epochs"
   ]
  },
  {
   "cell_type": "code",
   "execution_count": null,
   "metadata": {
    "colab": {
     "base_uri": "https://localhost:8080/"
    },
    "id": "UnRd2WGgTCna",
    "outputId": "bac91731-73a8-439b-b2d9-d3a9aef4a602"
   },
   "outputs": [
    {
     "name": "stdout",
     "output_type": "stream",
     "text": [
      "Initial value of a:  [0.49671415]\n",
      "Initial value of b:  [-0.1382643]\n",
      "Final value of a:  [1.02354094]\n",
      "Final value of b:  [1.96896411]\n",
      "Final Error :  0.008044657695505126\n"
     ]
    }
   ],
   "source": [
    "# Initializes parameters \"a\" and \"b\" randomly\n",
    "np.random.seed(42)\n",
    "a = np.random.randn(1)\n",
    "b = np.random.randn(1)\n",
    "print('Initial value of a: ', a)\n",
    "print('Initial value of b: ', b)\n",
    "# Sets learning rate\n",
    "lr = 1e-1\n",
    "# Defines number of epochs\n",
    "n_epochs = 1000\n",
    "for epoch in range(n_epochs):\n",
    "    # Computes our model's predicted output\n",
    "    yhat = a + b * x_train\n",
    "    \n",
    "    # How wrong is our model? That's the error! \n",
    "    error = (y_train - yhat)\n",
    "    # It is a regression, so it computes mean squared error (MSE)\n",
    "    loss = (error ** 2).mean()\n",
    "    \n",
    "    # Computes gradients for both \"a\" and \"b\" parameters\n",
    "    a_grad = -2 * error.mean()\n",
    "    b_grad = -2 * (x_train * error).mean()\n",
    "    \n",
    "    # Updates parameters using gradients and the learning rate\n",
    "    a = a - lr * a_grad\n",
    "    b = b - lr * b_grad\n",
    "    \n",
    "print('Final value of a: ', a)\n",
    "print('Final value of b: ', b)\n",
    "print('Final Error : ',(((a + b * x_train) - y_train)**2).mean())"
   ]
  },
  {
   "cell_type": "code",
   "execution_count": null,
   "metadata": {
    "colab": {
     "base_uri": "https://localhost:8080/",
     "height": 314
    },
    "id": "vVSsSTYETKU6",
    "outputId": "18715e75-a3c6-4126-8bcd-119d205b873e"
   },
   "outputs": [
    {
     "data": {
      "text/plain": [
       "[<matplotlib.lines.Line2D at 0x7f837085f2d0>]"
      ]
     },
     "execution_count": 15,
     "metadata": {
      "tags": []
     },
     "output_type": "execute_result"
    },
    {
     "data": {
      "image/png": "[encoded data removed]",
      "text/plain": [
       "<Figure size 432x288 with 1 Axes>"
      ]
     },
     "metadata": {
      "needs_background": "light",
      "tags": []
     },
     "output_type": "display_data"
    }
   ],
   "source": [
    "plt.plot(x_val, y_val, 'ro')\n",
    "plt.title('Validation data and reult of the trained regression model')\n",
    "plt.grid()\n",
    "plt.xlabel('x_val')\n",
    "plt.ylabel('y_val')\n",
    "# Final regression model\n",
    "yhat = a + b * x_val\n",
    "plt.plot(x_val, yhat, 'g')"
   ]
  },
  {
   "cell_type": "markdown",
   "metadata": {
    "id": "TuIVBYjSTy8v"
   },
   "source": [
    "### make life easier by pytorch !!!"
   ]
  },
  {
   "cell_type": "code",
   "execution_count": null,
   "metadata": {
    "colab": {
     "base_uri": "https://localhost:8080/"
    },
    "id": "h99PXYnvTs33",
    "outputId": "9753b60a-bd2e-45fc-aa5d-2356b916bd3b"
   },
   "outputs": [
    {
     "data": {
      "text/plain": [
       "tensor([[[1, 2, 8, 2],\n",
       "         [3, 0, 9, 9],\n",
       "         [7, 2, 0, 6]],\n",
       "\n",
       "        [[0, 9, 8, 2],\n",
       "         [1, 8, 5, 5],\n",
       "         [2, 8, 1, 7]]])"
      ]
     },
     "execution_count": 16,
     "metadata": {
      "tags": []
     },
     "output_type": "execute_result"
    }
   ],
   "source": [
    "# tensor\n",
    "tensor = torch.tensor([[[1, 2, 8, 2],\n",
    "               [3, 0, 9, 9],\n",
    "               [7, 2, 0, 6]],\n",
    "              [[0, 9, 8, 2],\n",
    "               [1, 8, 5, 5], \n",
    "               [2, 8, 1, 7]]])\n",
    "\n",
    "tensor"
   ]
  },
  {
   "cell_type": "code",
   "execution_count": null,
   "metadata": {
    "colab": {
     "base_uri": "https://localhost:8080/"
    },
    "id": "rgzsy3-0UJ8i",
    "outputId": "fc1eb8ce-22ce-4ec3-dcc8-6f91142c6890"
   },
   "outputs": [
    {
     "data": {
      "text/plain": [
       "torch.Size([2, 3, 4])"
      ]
     },
     "execution_count": 17,
     "metadata": {
      "tags": []
     },
     "output_type": "execute_result"
    }
   ],
   "source": [
    "tensor.shape"
   ]
  },
  {
   "cell_type": "code",
   "execution_count": null,
   "metadata": {
    "colab": {
     "base_uri": "https://localhost:8080/"
    },
    "id": "hY6-s6Y1URbq",
    "outputId": "47710add-d03d-4459-965b-33892fd3d4be"
   },
   "outputs": [
    {
     "data": {
      "text/plain": [
       "torch.Tensor"
      ]
     },
     "execution_count": 18,
     "metadata": {
      "tags": []
     },
     "output_type": "execute_result"
    }
   ],
   "source": [
    "type(tensor)"
   ]
  },
  {
   "cell_type": "code",
   "execution_count": null,
   "metadata": {
    "id": "KSj5WkCbUTzp"
   },
   "outputs": [],
   "source": [
    "# torch.tensor([[[1, 2, 8, 2],\n",
    "#                [3, 0, 9, 9],\n",
    "#                [7, 2, 0, 6]],\n",
    "#               [[0, 9, 8, 2],\n",
    "#                [1, 8, 5, 5], \n",
    "#                [2, 8, 1, 7]]], device=torch.device('cuda:0'))\n",
    "\n",
    "# tensor.shape"
   ]
  },
  {
   "cell_type": "code",
   "execution_count": null,
   "metadata": {
    "colab": {
     "base_uri": "https://localhost:8080/"
    },
    "id": "M2UA9kUkUXgC",
    "outputId": "496d8fd2-4d3a-4f9e-b2bb-ecd0fa19440f"
   },
   "outputs": [
    {
     "data": {
      "text/plain": [
       "False"
      ]
     },
     "execution_count": 20,
     "metadata": {
      "tags": []
     },
     "output_type": "execute_result"
    }
   ],
   "source": [
    "torch.cuda.is_available()"
   ]
  },
  {
   "cell_type": "code",
   "execution_count": null,
   "metadata": {
    "id": "nMp2DZ_SUixM"
   },
   "outputs": [],
   "source": [
    "#torch.cuda.get_device_properties('cuda:0')"
   ]
  },
  {
   "cell_type": "code",
   "execution_count": null,
   "metadata": {
    "colab": {
     "base_uri": "https://localhost:8080/"
    },
    "id": "Zr9wLizKUlh6",
    "outputId": "9aa67434-d300-4ce8-e924-95745adeadd8"
   },
   "outputs": [
    {
     "name": "stdout",
     "output_type": "stream",
     "text": [
      "[[7 4 6]\n",
      " [9 2 6]]\n",
      "--------------------------------------------------\n",
      "tensor([[7, 4, 6],\n",
      "        [9, 2, 6]])\n"
     ]
    }
   ],
   "source": [
    "#convert numpy array to tensor and \n",
    "np_array = np.random.randint(0, 10, (2, 3))\n",
    "print(np_array)\n",
    "print(50*'-')\n",
    "tensor = torch.from_numpy(np_array)\n",
    "print(tensor)"
   ]
  },
  {
   "cell_type": "code",
   "execution_count": null,
   "metadata": {
    "colab": {
     "base_uri": "https://localhost:8080/"
    },
    "id": "GPaFQXGYU4XB",
    "outputId": "34dd717c-e272-4224-ba8a-f8717a649e76"
   },
   "outputs": [
    {
     "name": "stdout",
     "output_type": "stream",
     "text": [
      "tensor([[7, 4, 6],\n",
      "        [9, 2, 6]])\n",
      "--------------------------------------------------\n",
      "[[7 4 6]\n",
      " [9 2 6]]\n"
     ]
    }
   ],
   "source": [
    "#convert tensor  to numpy array \n",
    "tensor = torch.from_numpy(np_array)\n",
    "print(tensor)\n",
    "print(50*'-')\n",
    "np_array = tensor.numpy()\n",
    "print(np_array)"
   ]
  },
  {
   "cell_type": "code",
   "execution_count": null,
   "metadata": {
    "id": "J9mpUpRsVVAb"
   },
   "outputs": [],
   "source": [
    "# TypeError: can't convert CUDA tensor to numpy. Use Tensor.cpu() to copy the tensor to host memory first.\n",
    "# a = torch.randint(10, (2, 3), device=torch.device('cuda'))\n",
    "# print(a)\n",
    "# print(50*'-')\n",
    "# # Method 1\n",
    "# b = a.to('cpu').numpy()\n",
    "# print(b)\n",
    "# print(50*'-')\n",
    "# # Method 2\n",
    "# c = a.cpu().numpy()\n",
    "# print(c)"
   ]
  },
  {
   "cell_type": "markdown",
   "metadata": {
    "id": "TWA75xloVZ5P"
   },
   "source": [
    "### use tensor"
   ]
  },
  {
   "cell_type": "code",
   "execution_count": null,
   "metadata": {
    "id": "jmhC4Od3VZdA"
   },
   "outputs": [],
   "source": [
    "# Converts numpy arrays to tensor\n",
    "x_train = torch.from_numpy(x_train)\n",
    "y_train = torch.from_numpy(y_train)"
   ]
  },
  {
   "cell_type": "code",
   "execution_count": null,
   "metadata": {
    "id": "4ay-fkkCVc75"
   },
   "outputs": [],
   "source": [
    "# Initializes parameters \"a\" and \"b\" randomly\n",
    "torch.manual_seed(42)\n",
    "a = torch.randn(1)\n",
    "b = torch.randn(1)"
   ]
  },
  {
   "cell_type": "code",
   "execution_count": null,
   "metadata": {
    "colab": {
     "base_uri": "https://localhost:8080/"
    },
    "id": "sD3VrNsMVeER",
    "outputId": "9b0b092c-defe-424f-b76b-395f426e7379"
   },
   "outputs": [
    {
     "name": "stdout",
     "output_type": "stream",
     "text": [
      "Initial value of a:  tensor([0.3367])\n",
      "Initial value of b:  tensor([0.1288])\n"
     ]
    }
   ],
   "source": [
    "print('Initial value of a: ', a)\n",
    "print('Initial value of b: ', b)"
   ]
  },
  {
   "cell_type": "code",
   "execution_count": null,
   "metadata": {
    "id": "DiCtUfavVf-f"
   },
   "outputs": [],
   "source": [
    "# Sets learning rate\n",
    "lr = 1e-1\n",
    "# Defines number of epochs\n",
    "n_epochs = 1000"
   ]
  },
  {
   "cell_type": "code",
   "execution_count": null,
   "metadata": {
    "colab": {
     "base_uri": "https://localhost:8080/"
    },
    "id": "wrB2EeKgVhTh",
    "outputId": "9b414dda-cfa5-48bf-8ec8-c471966172a0"
   },
   "outputs": [
    {
     "name": "stdout",
     "output_type": "stream",
     "text": [
      "Final value of a:  tensor([1.0235])\n",
      "Final value of b:  tensor([1.9690])\n"
     ]
    }
   ],
   "source": [
    "for epoch in range(n_epochs):\n",
    "    # Computes our model's predicted output\n",
    "    yhat = a + b * x_train\n",
    "    \n",
    "    # How wrong is our model? That's the error! \n",
    "    error = (y_train - yhat)\n",
    "    # It is a regression, so it computes mean squared error (MSE)\n",
    "    loss = (error ** 2).mean()\n",
    "    \n",
    "    # Computes gradients for both \"a\" and \"b\" parameters\n",
    "    a_grad = -2 * error.mean()\n",
    "    b_grad = -2 * (x_train * error).mean()\n",
    "    \n",
    "    # Updates parameters using gradients and the learning rate\n",
    "    a = a - lr * a_grad\n",
    "    b = b - lr * b_grad\n",
    "    \n",
    "print('Final value of a: ', a)\n",
    "print('Final value of b: ', b)"
   ]
  },
  {
   "cell_type": "markdown",
   "metadata": {
    "id": "sNWn2JHqWIpT"
   },
   "source": [
    "### pytorch"
   ]
  },
  {
   "cell_type": "code",
   "execution_count": null,
   "metadata": {
    "colab": {
     "base_uri": "https://localhost:8080/"
    },
    "id": "xFIWCIiRVy-m",
    "outputId": "9c26ec08-37b3-4e47-9b9c-71aa39e199b2"
   },
   "outputs": [
    {
     "name": "stdout",
     "output_type": "stream",
     "text": [
      "x:  tensor([0.2345], requires_grad=True)\n",
      "y:  tensor([0.0550], grad_fn=<PowBackward0>)\n"
     ]
    }
   ],
   "source": [
    "x = torch.randn(1, requires_grad=True)\n",
    "print('x: ', x)\n",
    "y = x**2\n",
    "print('y: ', y)\n",
    "y.backward()"
   ]
  },
  {
   "cell_type": "code",
   "execution_count": null,
   "metadata": {
    "colab": {
     "base_uri": "https://localhost:8080/"
    },
    "id": "mEpYXoYuWLIf",
    "outputId": "589e8c4d-1003-4dc7-b643-2566742b2a55"
   },
   "outputs": [
    {
     "data": {
      "text/plain": [
       "tensor([0.4689])"
      ]
     },
     "execution_count": 31,
     "metadata": {
      "tags": []
     },
     "output_type": "execute_result"
    }
   ],
   "source": [
    "x.grad"
   ]
  },
  {
   "cell_type": "code",
   "execution_count": null,
   "metadata": {
    "colab": {
     "base_uri": "https://localhost:8080/"
    },
    "id": "ey9AmUDVWyFX",
    "outputId": "b2c9b36d-d815-4f7c-a3b3-c156dd6c1831"
   },
   "outputs": [
    {
     "name": "stdout",
     "output_type": "stream",
     "text": [
      "SGD (\n",
      "Parameter Group 0\n",
      "    dampening: 0\n",
      "    lr: 0.01\n",
      "    momentum: 0\n",
      "    nesterov: False\n",
      "    weight_decay: 0\n",
      ")\n"
     ]
    }
   ],
   "source": [
    "# optimizer\n",
    "torch.manual_seed(42)\n",
    "a = torch.randn(1, requires_grad=True)\n",
    "b = torch.randn(1, requires_grad=True)\n",
    "optimizer = torch.optim.SGD([a, b], lr=0.01)\n",
    "print(optimizer)\n",
    "\n",
    "# update parameters\n",
    "# optimizer.step()"
   ]
  },
  {
   "cell_type": "code",
   "execution_count": null,
   "metadata": {
    "id": "l7-vCf5gXMmp"
   },
   "outputs": [],
   "source": [
    "np.random.seed(42)\n",
    "x = np.random.rand(100, 1) #make random vector with size 100\n",
    "y = 1 + 2 * x + .1 * np.random.randn(100, 1) #make y depends on x with noise by equation y = 1 + 2 * x + (noise)"
   ]
  },
  {
   "cell_type": "code",
   "execution_count": null,
   "metadata": {
    "id": "Bhmf3e5lXP4_"
   },
   "outputs": [],
   "source": [
    "# Shuffles the indices\n",
    "idx = np.arange(100)\n",
    "np.random.shuffle(idx)"
   ]
  },
  {
   "cell_type": "code",
   "execution_count": null,
   "metadata": {
    "id": "8Bo_632fXSA_"
   },
   "outputs": [],
   "source": [
    "# Uses first 80 random indices for train\n",
    "train_idx = idx[:80]\n",
    "# Uses the remaining indices for validation\n",
    "val_idx = idx[80:]\n",
    "\n",
    "# Generates train and validation sets\n",
    "x_train, y_train = x[train_idx], y[train_idx]\n",
    "x_val, y_val = x[val_idx], y[val_idx]"
   ]
  },
  {
   "cell_type": "code",
   "execution_count": null,
   "metadata": {
    "id": "lNGmkH2TW0_y"
   },
   "outputs": [],
   "source": [
    "# Converts numpy arrays to tensor\n",
    "x_train = torch.from_numpy(x_train)\n",
    "y_train = torch.from_numpy(y_train)"
   ]
  },
  {
   "cell_type": "code",
   "execution_count": null,
   "metadata": {
    "colab": {
     "base_uri": "https://localhost:8080/"
    },
    "id": "NFxRmQe8XIjt",
    "outputId": "245a70b1-2780-4e52-bb5d-1f762b518258"
   },
   "outputs": [
    {
     "name": "stdout",
     "output_type": "stream",
     "text": [
      "Initial value of a:  tensor([0.3367], requires_grad=True)\n",
      "Initial value of b:  tensor([0.1288], requires_grad=True)\n"
     ]
    }
   ],
   "source": [
    "# Initializes parameters \"a\" and \"b\" randomly\n",
    "torch.manual_seed(42)\n",
    "a = torch.randn(1, requires_grad=True)\n",
    "b = torch.randn(1, requires_grad=True)\n",
    "print('Initial value of a: ', a)\n",
    "print('Initial value of b: ', b)"
   ]
  },
  {
   "cell_type": "code",
   "execution_count": null,
   "metadata": {
    "id": "LR3aytymXVyR"
   },
   "outputs": [],
   "source": [
    "# Sets learning rate\n",
    "lr = 1e-1\n",
    "# Defines optimizer\n",
    "optimizer = torch.optim.SGD([a, b], lr=lr)"
   ]
  },
  {
   "cell_type": "code",
   "execution_count": null,
   "metadata": {
    "id": "w2pHgJfqXYcO"
   },
   "outputs": [],
   "source": [
    "# Defines number of epochs\n",
    "n_epochs = 1000"
   ]
  },
  {
   "cell_type": "code",
   "execution_count": null,
   "metadata": {
    "colab": {
     "base_uri": "https://localhost:8080/"
    },
    "id": "LoyFlTMMXaN_",
    "outputId": "30800b28-5f6a-4ca0-a579-d9095c5820b8"
   },
   "outputs": [
    {
     "name": "stdout",
     "output_type": "stream",
     "text": [
      "Final value of a:  tensor([1.0235], requires_grad=True)\n",
      "Final value of b:  tensor([1.9690], requires_grad=True)\n"
     ]
    }
   ],
   "source": [
    "for epoch in range(n_epochs):\n",
    "    # Computes our model's predicted output\n",
    "    yhat = a + b * x_train\n",
    "    \n",
    "    # How wrong is our model? That's the error! \n",
    "    error = (y_train - yhat)\n",
    "    # It is a regression, so it computes mean squared error (MSE)\n",
    "    loss = (error ** 2).mean()\n",
    "    \n",
    "    # Computes gradients for both \"a\" and \"b\" parameters\n",
    "    # a_grad = -2 * error.mean()\n",
    "    # b_grad = -2 * (x_train * error).mean()\n",
    "\n",
    "    loss.backward()  # simple!\n",
    "\n",
    "    # Updates parameters using gradients and the learning rate\n",
    "    # a = a - lr * a_grad\n",
    "    # b = b - lr * b_grad\n",
    "    optimizer.step()  # simple!\n",
    "    \n",
    "    # Resets gradients!\n",
    "    optimizer.zero_grad()\n",
    "    \n",
    "print('Final value of a: ', a)\n",
    "print('Final value of b: ', b)"
   ]
  },
  {
   "cell_type": "code",
   "execution_count": null,
   "metadata": {
    "id": "APNSRTn6XgD7"
   },
   "outputs": [],
   "source": [
    "# Resets gradients!\n",
    "x = torch.tensor(1., requires_grad=True)"
   ]
  },
  {
   "cell_type": "code",
   "execution_count": null,
   "metadata": {
    "colab": {
     "base_uri": "https://localhost:8080/"
    },
    "id": "DNpwYw-oXsFN",
    "outputId": "481af394-a4bc-4959-be97-e4762109b43d"
   },
   "outputs": [
    {
     "name": "stdout",
     "output_type": "stream",
     "text": [
      "Gradient:  tensor(3.)\n"
     ]
    }
   ],
   "source": [
    "# First try\n",
    "y = x**3\n",
    "y.backward()\n",
    "print('Gradient: ', x.grad)"
   ]
  },
  {
   "cell_type": "code",
   "execution_count": null,
   "metadata": {
    "colab": {
     "base_uri": "https://localhost:8080/"
    },
    "id": "UYPA033bXuiJ",
    "outputId": "9b5228ad-7bba-4c6e-9bb4-e69f720bd7eb"
   },
   "outputs": [
    {
     "name": "stdout",
     "output_type": "stream",
     "text": [
      "Gradient:  tensor(6.)\n"
     ]
    }
   ],
   "source": [
    "# Second try\n",
    "y = x**3\n",
    "y.backward()\n",
    "print('Gradient: ', x.grad)"
   ]
  },
  {
   "cell_type": "markdown",
   "metadata": {
    "id": "orJShYpsX686"
   },
   "source": [
    "### pytorch loss function"
   ]
  },
  {
   "cell_type": "code",
   "execution_count": null,
   "metadata": {
    "colab": {
     "base_uri": "https://localhost:8080/"
    },
    "id": "LZ9zYbLLXvse",
    "outputId": "8a962b05-eca1-4f50-cc79-519a0f13cc74"
   },
   "outputs": [
    {
     "name": "stdout",
     "output_type": "stream",
     "text": [
      "tensor(0.9842, grad_fn=<MseLossBackward>)\n"
     ]
    }
   ],
   "source": [
    "loss = torch.nn.MSELoss()\n",
    "input = torch.randn(3, 5, requires_grad=True)\n",
    "target = torch.randn(3, 5)\n",
    "output = loss(input, target)\n",
    "print(output)"
   ]
  },
  {
   "cell_type": "code",
   "execution_count": null,
   "metadata": {
    "id": "lk2yqVvRYJid"
   },
   "outputs": [],
   "source": [
    "np.random.seed(42)\n",
    "x = np.random.rand(100, 1) #make random vector with size 100\n",
    "y = 1 + 2 * x + .1 * np.random.randn(100, 1) #make y depends on x with noise by equation y = 1 + 2 * x + (noise)"
   ]
  },
  {
   "cell_type": "code",
   "execution_count": null,
   "metadata": {
    "id": "YTNcQ0ISYJ_m"
   },
   "outputs": [],
   "source": [
    "# Shuffles the indices\n",
    "idx = np.arange(100)\n",
    "np.random.shuffle(idx)"
   ]
  },
  {
   "cell_type": "code",
   "execution_count": null,
   "metadata": {
    "id": "Iu6b1c5RYMHW"
   },
   "outputs": [],
   "source": [
    "# Uses first 80 random indices for train\n",
    "train_idx = idx[:80]\n",
    "# Uses the remaining indices for validation\n",
    "val_idx = idx[80:]\n",
    "\n",
    "# Generates train and validation sets\n",
    "x_train, y_train = x[train_idx], y[train_idx]\n",
    "x_val, y_val = x[val_idx], y[val_idx]"
   ]
  },
  {
   "cell_type": "code",
   "execution_count": null,
   "metadata": {
    "id": "t1BNyYlBYBZI"
   },
   "outputs": [],
   "source": [
    "# Converts numpy arrays to tensor\n",
    "x_train = torch.from_numpy(x_train)\n",
    "y_train = torch.from_numpy(y_train)"
   ]
  },
  {
   "cell_type": "code",
   "execution_count": null,
   "metadata": {
    "colab": {
     "base_uri": "https://localhost:8080/"
    },
    "id": "fFrs-AutYVmx",
    "outputId": "133b3e42-b3d7-4e8e-bee9-a1b8ed0d8201"
   },
   "outputs": [
    {
     "name": "stdout",
     "output_type": "stream",
     "text": [
      "Initial value of a:  tensor([0.3367], requires_grad=True)\n",
      "Initial value of b:  tensor([0.1288], requires_grad=True)\n"
     ]
    }
   ],
   "source": [
    "# Initializes parameters \"a\" and \"b\" randomly\n",
    "torch.manual_seed(42)\n",
    "a = torch.randn(1, requires_grad=True)\n",
    "b = torch.randn(1, requires_grad=True)\n",
    "print('Initial value of a: ', a)\n",
    "print('Initial value of b: ', b)"
   ]
  },
  {
   "cell_type": "code",
   "execution_count": null,
   "metadata": {
    "id": "NP6F_hlJYXVA"
   },
   "outputs": [],
   "source": [
    "# Sets learning rate\n",
    "lr = 1e-1\n",
    "# Defines optimizer\n",
    "optimizer = torch.optim.SGD([a, b], lr=lr)\n",
    "# Defines MSE loss\n",
    "loss_fn = torch.nn.MSELoss()\n",
    "# Defines number of epochs\n",
    "n_epochs = 1000"
   ]
  },
  {
   "cell_type": "code",
   "execution_count": null,
   "metadata": {
    "colab": {
     "base_uri": "https://localhost:8080/"
    },
    "id": "wU2VcjS2YaBv",
    "outputId": "1af746f7-0c71-4d3e-df8a-a0165200cefd"
   },
   "outputs": [
    {
     "name": "stdout",
     "output_type": "stream",
     "text": [
      "Final value of a:  tensor([1.0235], requires_grad=True)\n",
      "Final value of b:  tensor([1.9690], requires_grad=True)\n",
      "Final loss :  tensor(0.0080, dtype=torch.float64, grad_fn=<MseLossBackward>)\n"
     ]
    }
   ],
   "source": [
    "for epoch in range(n_epochs):\n",
    "    # Computes our model's predicted output\n",
    "    yhat = a + b * x_train\n",
    "    \n",
    "    # How wrong is our model? That's the error! \n",
    "    # error = (y_train - yhat)\n",
    "    # It is a regression, so it computes mean squared error (MSE)\n",
    "    # loss = (error ** 2).mean()\n",
    "    loss = loss_fn(yhat, y_train)\n",
    "    # Computes gradients for both \"a\" and \"b\" parameters\n",
    "    # a_grad = -2 * error.mean()\n",
    "    # b_grad = -2 * (x_train * error).mean()\n",
    "    loss.backward()  # simple!\n",
    "    # Updates parameters using gradients and the learning rate\n",
    "    # a = a - lr * a_grad\n",
    "    # b = b - lr * b_grad\n",
    "    optimizer.step()  # simple!\n",
    "    # Resets gradients!\n",
    "    optimizer.zero_grad()\n",
    "\n",
    "yhat = a + b * x_train\n",
    "final_error =  loss_fn(yhat, y_train)\n",
    "\n",
    "print('Final value of a: ', a)\n",
    "print('Final value of b: ', b)\n",
    "print('Final loss : ',final_error)"
   ]
  },
  {
   "cell_type": "markdown",
   "metadata": {
    "id": "dQ719_CaYv33"
   },
   "source": [
    "### pytorch FC "
   ]
  },
  {
   "cell_type": "code",
   "execution_count": null,
   "metadata": {
    "id": "mYgtPVb8Yk_b"
   },
   "outputs": [],
   "source": [
    "class NeuralNetwork(torch.nn.Module):\n",
    "    def __init__(self, n_input, n_unit1, n_output):\n",
    "        super().__init__()\n",
    "        # Inputs to 1st hidden layer linear transformation \n",
    "        self.hidden = torch.nn.Linear(n_input, n_unit1)\n",
    "        self.sigmoid = torch.nn.Sigmoid()\n",
    "        # Output layer \n",
    "        self.output = torch.nn.Linear(n_unit1, n_output)\n",
    "        self.softmax = torch.nn.Softmax(dim=1)\n",
    "        \n",
    "    def forward(self, x):\n",
    "        x = self.hidden(x) \n",
    "        x = self.sigmoid(x)\n",
    "        x = self.output(x)\n",
    "        x = self.softmax(x)\n",
    "        return x"
   ]
  },
  {
   "cell_type": "code",
   "execution_count": null,
   "metadata": {
    "colab": {
     "base_uri": "https://localhost:8080/"
    },
    "id": "Bfe4Bz1eZLpS",
    "outputId": "acc7d508-8f6b-4dea-f2e3-8f231ebccc51"
   },
   "outputs": [
    {
     "name": "stdout",
     "output_type": "stream",
     "text": [
      "NeuralNetwork(\n",
      "  (hidden): Linear(in_features=10, out_features=30, bias=True)\n",
      "  (sigmoid): Sigmoid()\n",
      "  (output): Linear(in_features=30, out_features=2, bias=True)\n",
      "  (softmax): Softmax(dim=1)\n",
      ")\n"
     ]
    }
   ],
   "source": [
    "nn_model = NeuralNetwork(10, 30, 2)\n",
    "print(nn_model)"
   ]
  },
  {
   "cell_type": "code",
   "execution_count": null,
   "metadata": {
    "colab": {
     "base_uri": "https://localhost:8080/"
    },
    "id": "7kMGnz6pbPWP",
    "outputId": "931ea346-3e79-426e-e3a5-306e9f957b45"
   },
   "outputs": [
    {
     "name": "stdout",
     "output_type": "stream",
     "text": [
      "Sequential(\n",
      "  (0): Linear(in_features=10, out_features=30, bias=True)\n",
      "  (1): Sigmoid()\n",
      "  (2): Linear(in_features=30, out_features=2, bias=True)\n",
      "  (3): Softmax(dim=None)\n",
      ")\n"
     ]
    }
   ],
   "source": [
    "model = torch.nn.Sequential(\n",
    "    torch.nn.Linear(10, 30),\n",
    "    torch.nn.Sigmoid(),\n",
    "    torch.nn.Linear(30, 2),\n",
    "    torch.nn.Softmax()\n",
    ")\n",
    "print(model)"
   ]
  },
  {
   "cell_type": "code",
   "execution_count": null,
   "metadata": {
    "id": "yM4qfpcnZPim"
   },
   "outputs": [],
   "source": [
    "class LinRegModel(torch.nn.Module):\n",
    "    def __init__(self):\n",
    "        super().__init__()\n",
    "        # Inputs to 1st hidden layer linear transformation \n",
    "        self.neuron = torch.nn.Linear(1, 1)\n",
    "        \n",
    "    def forward(self, x):\n",
    "        x = x.float()\n",
    "        y = self.neuron(x)\n",
    "        return y.float()"
   ]
  },
  {
   "cell_type": "code",
   "execution_count": null,
   "metadata": {
    "colab": {
     "base_uri": "https://localhost:8080/"
    },
    "id": "O8jq5jJeZTbv",
    "outputId": "a374273b-97bf-4c26-a252-c82bb15faddf"
   },
   "outputs": [
    {
     "name": "stdout",
     "output_type": "stream",
     "text": [
      "LinRegModel(\n",
      "  (neuron): Linear(in_features=1, out_features=1, bias=True)\n",
      ")\n"
     ]
    }
   ],
   "source": [
    "lreg_model = LinRegModel()\n",
    "print(lreg_model)"
   ]
  },
  {
   "cell_type": "code",
   "execution_count": null,
   "metadata": {
    "id": "ArJjiSfeblpo"
   },
   "outputs": [],
   "source": [
    "np.random.seed(42)\n",
    "x = np.random.rand(100, 1) #make random vector with size 100\n",
    "y = 1 + 2 * x + .1 * np.random.randn(100, 1) #make y depends on x with noise by equation y = 1 + 2 * x + (noise)"
   ]
  },
  {
   "cell_type": "code",
   "execution_count": null,
   "metadata": {
    "id": "RwrSzrr2blpp"
   },
   "outputs": [],
   "source": [
    "# Shuffles the indices\n",
    "idx = np.arange(100)\n",
    "np.random.shuffle(idx)"
   ]
  },
  {
   "cell_type": "code",
   "execution_count": null,
   "metadata": {
    "id": "49pRvcZtblpq"
   },
   "outputs": [],
   "source": [
    "# Uses first 80 random indices for train\n",
    "train_idx = idx[:80]\n",
    "# Uses the remaining indices for validation\n",
    "val_idx = idx[80:]\n",
    "\n",
    "# Generates train and validation sets\n",
    "x_train, y_train = x[train_idx], y[train_idx]\n",
    "x_val, y_val = x[val_idx], y[val_idx]"
   ]
  },
  {
   "cell_type": "code",
   "execution_count": null,
   "metadata": {
    "id": "aqAtxe7Wblpq"
   },
   "outputs": [],
   "source": [
    "# Converts numpy arrays to tensor\n",
    "x_train = torch.from_numpy(x_train)\n",
    "x_train = x_train.float()\n",
    "y_train = torch.from_numpy(y_train)\n",
    "y_train = y_train.float()"
   ]
  },
  {
   "cell_type": "code",
   "execution_count": null,
   "metadata": {
    "id": "parU4lH_ZYY1"
   },
   "outputs": [],
   "source": [
    "# Sets learning rate\n",
    "lr = 1e-1"
   ]
  },
  {
   "cell_type": "code",
   "execution_count": null,
   "metadata": {
    "id": "xSMfMaJrZYyG"
   },
   "outputs": [],
   "source": [
    "# training step\n",
    "lreg_model.train()\n",
    "# Defines optimizer\n",
    "optimizer = torch.optim.SGD(lreg_model.parameters(), lr=lr)\n",
    "# Defines MSE loss\n",
    "loss_fn = torch.nn.MSELoss()\n",
    "# Defines number of epochs\n",
    "n_epochs = 1000"
   ]
  },
  {
   "cell_type": "code",
   "execution_count": null,
   "metadata": {
    "id": "SR3Eh8EtaJYl"
   },
   "outputs": [],
   "source": [
    "# evaluate model\n",
    "# model.eval()\n",
    "\n",
    "# with torch.no_grad():\n",
    "#     ...\n",
    "#     out_data = model(data)\n",
    "#     ..."
   ]
  },
  {
   "cell_type": "code",
   "execution_count": null,
   "metadata": {
    "colab": {
     "base_uri": "https://localhost:8080/"
    },
    "id": "V_nsQLl8Zgw9",
    "outputId": "f14f733b-e416-464e-c624-20d555309cd9"
   },
   "outputs": [
    {
     "name": "stdout",
     "output_type": "stream",
     "text": [
      "OrderedDict([('neuron.weight', tensor([[1.9690]])), ('neuron.bias', tensor([1.0235]))])\n"
     ]
    }
   ],
   "source": [
    "for epoch in range(n_epochs):\n",
    "    # Computes our model's predicted output\n",
    "    # yhat = a + b * x_train\n",
    "    yhat = lreg_model(x_train)\n",
    "    \n",
    "    # How wrong is our model? That's the error! \n",
    "    # error = (y_train - yhat)\n",
    "    # It is a regression, so it computes mean squared error (MSE)\n",
    "    # loss = (error ** 2).mean()\n",
    "    loss = loss_fn(yhat, y_train)\n",
    "    # Computes gradients for both \"a\" and \"b\" parameters\n",
    "    # a_grad = -2 * error.mean()\n",
    "    # b_grad = -2 * (x_train * error).mean()\n",
    "    loss.backward()  # simple!\n",
    "    # Updates parameters using gradients and the learning rate\n",
    "    # a = a - lr * a_grad\n",
    "    # b = b - lr * b_grad\n",
    "    optimizer.step()  # simple!\n",
    "    # Resets gradients!\n",
    "    optimizer.zero_grad()\n",
    "    \n",
    "# print('Final value of a: ', a)\n",
    "# print('Final value of b: ', a)\n",
    "print(lreg_model.state_dict())"
   ]
  },
  {
   "cell_type": "markdown",
   "metadata": {
    "id": "Q1ZDxmKL7tFm"
   },
   "source": [
    "### Advance Topic"
   ]
  },
  {
   "cell_type": "code",
   "execution_count": null,
   "metadata": {
    "id": "461AQap-_eGL"
   },
   "outputs": [],
   "source": [
    "# use torch dataloader \n",
    "# make a DataSet class\n",
    "# batch \n",
    "# evaluation"
   ]
  }
 ],
 "metadata": {
  "colab": {
   "provenance": []
  },
  "kernelspec": {
   "display_name": "Python 3 (ipykernel)",
   "language": "python",
   "name": "python3"
  },
  "language_info": {
   "codemirror_mode": {
    "name": "ipython",
    "version": 3
   },
   "file_extension": ".py",
   "mimetype": "text/x-python",
   "name": "python",
   "nbconvert_exporter": "python",
   "pygments_lexer": "ipython3",
   "version": "3.9.13"
  }
 },
 "nbformat": 4,
 "nbformat_minor": 1
}
